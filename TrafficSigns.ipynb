{
 "cells": [
  {
   "cell_type": "markdown",
   "metadata": {},
   "source": [
    "\n",
    "# 1) Basic TensorFlow Knowledge"
   ]
  },
  {
   "cell_type": "code",
   "execution_count": null,
   "metadata": {},
   "outputs": [],
   "source": [
    "# getting started with tensorflow\n",
    "\n",
    "import tensorflow as tf\n",
    "\n",
    "x1 = tf.constant([1,2,3,4])\n",
    "x2 = tf.constant([5,6,7,8])\n",
    "\n",
    "# Multiply\n",
    "result = tf.Multiply(x1, x2)\n",
    "\n",
    "print(result)\n"
   ]
  },
  {
   "cell_type": "markdown",
   "metadata": {},
   "source": [
    "- types of data 1) placeholder 2) constants 3) variables\n",
    "- lazy evaluation in TensorFlow\n"
   ]
  },
  {
   "cell_type": "code",
   "execution_count": null,
   "metadata": {},
   "outputs": [],
   "source": [
    "\n",
    "import tensorflow as tf\n",
    "\n",
    "x1 = tf.constant([1,2,3,4])\n",
    "x2 = tf.constant([5,6,7,8])\n",
    "\n",
    "# Multiply\n",
    "result = tf.Multiply(x1, x2)\n",
    "\n",
    "# Initialize Session\n",
    "\n",
    "sess = tf.Session()\n",
    "\n",
    "print(sess.run(result))\n",
    "\n",
    "sess.close()\n",
    "\n",
    "# or \n",
    "'''with tf.Session() as sess:\n",
    "    output = sess.run(result)\n",
    "    print(output)'''\n",
    "\n",
    "# additional Config\n",
    "\n",
    "config = tf.ConfigProto(log_device_placement=True)\n",
    "config = tf.ConfigProto(allow_soft_placement = True)"
   ]
  },
  {
   "cell_type": "markdown",
   "metadata": {},
   "source": [
    "# Project Belgian Traffic Signs\n",
    "\n",
    "## 1 Loading and Exploration of Data"
   ]
  },
  {
   "cell_type": "markdown",
   "metadata": {},
   "source": [
    "Belgian Traffic Signs\n",
    "\n",
    "- 6 types (warning, priority, prohibitory, mandatory, parking, designatory signs)\n",
    "- 30.000 speed signs removed in 2017"
   ]
  },
  {
   "cell_type": "code",
   "execution_count": null,
   "metadata": {},
   "outputs": [],
   "source": [
    "# 1) Loading and Exploration of Data\n",
    "def load_data(data_directory):\n",
    "    directories = [d for d in os.listdir(data_directory) if os.path.isdir(os.path.join(data_directory, d))]\n",
    "\n",
    "    images = []\n",
    "    labels = []\n",
    "    \n",
    "    for d in directories:\n",
    "        label_directoriy = os.path.join(data_directory, d)\n",
    "        file_names = [os.path.join(label_directory, f)\n",
    "                     for f in os.listdir(label_directory)\n",
    "                     if f.endswith(\".ppm\")]\n",
    "        for f in file_names:\n",
    "            images.append(skimage.data.imread(f))\n",
    "            labels.append(int(d))\n",
    "            \n",
    "    return images, labels\n",
    "    \n",
    "    \n",
    "ROOT_PATH = '/Users/ansve/Coding/Tensorflow/' \n",
    "\n",
    "# missing dir path !!!!!!!!!!!!!!!!!!!\n",
    "\n",
    "train_data_dir = os.path.join(ROOT_PATH, 'TrafficSigns/Training')\n",
    "test_data_dir = os.path.join(ROOT_PATH, 'TrafficSigns/Testing')\n",
    "\n",
    "images, labels = load_data(train_data_dir)"
   ]
  },
  {
   "cell_type": "markdown",
   "metadata": {},
   "source": [
    "### 1.1 Traffic Sign Statistics"
   ]
  },
  {
   "cell_type": "code",
   "execution_count": null,
   "metadata": {},
   "outputs": [],
   "source": [
    "#Inspect the images and labels\n",
    "\n",
    "\n",
    "## might convert list into arrays\n",
    "np.array(images)\n",
    "\n",
    "# recap: \n",
    "# 1) list and array almost the same - storing data. but arrays can be multiplied etc\n",
    "# set Object: unordered, unindexed list, immutable but can .add()\n",
    "# 1) Images\n",
    "print(images.ndim)  #print dimensions of image\n",
    "print(images.size)\n",
    "\n",
    "images[0]\n",
    "\n",
    "# 2) Labels\n",
    "\n",
    "print(labels.ndim)\n",
    "print(labels.size)\n",
    "\n",
    "print(len(set(labels)))"
   ]
  },
  {
   "cell_type": "code",
   "execution_count": null,
   "metadata": {},
   "outputs": [],
   "source": [
    "import matplotlib.pyplot as plt\n",
    "\n",
    "plt.hist(labels, 62 )\n",
    "\n",
    "plt.show()"
   ]
  },
  {
   "cell_type": "markdown",
   "metadata": {},
   "source": [
    "### 1.2 Visualizing The Traffic Signs"
   ]
  },
  {
   "cell_type": "code",
   "execution_count": null,
   "metadata": {},
   "outputs": [],
   "source": [
    "import matplotlib.pyplot as plt\n",
    "\n",
    "#chose 4 images\n",
    "traffic_signs = [300, 2250, 3650,4000]\n",
    "\n",
    "# fill out 4 subplots with 4 traffic Signs\n",
    "\n",
    "for i in range(len(traffic_signs)):\n",
    "    plt.subplot(1,4, 1+i)\n",
    "    plt.axis(off)\n",
    "    plt.imshow(images[traffic_signs[i]])\n",
    "    plt.subplots_adjust(wspace=0.5)\n",
    "    \n",
    "plt.show()"
   ]
  },
  {
   "cell_type": "code",
   "execution_count": null,
   "metadata": {},
   "outputs": [],
   "source": [
    "# Import `matplotlib`\n",
    "import matplotlib.pyplot as plt\n",
    "\n",
    "# Determine the (random) indexes of the images\n",
    "traffic_signs = [300, 2250, 3650, 4000]\n",
    "\n",
    "# Fill out the subplots with the random images and add shape, min and max values\n",
    "for i in range(len(traffic_signs)):\n",
    "    plt.subplots(1, 4, i+1)\n",
    "    plt.axis(off)\n",
    "    plt.imshow(images[traffic_signs[i]])\n",
    "    plt.subplots_adjust(wspace=0.5)\n",
    "    plt.show()\n",
    "    print('shape: {0}, min: {1}, max: {2}'.format(images[traffic_signs[i]].shape,\n",
    "                                                 images[traffic_sign[i]].min(),\n",
    "                                                 images[traffic_sign[i]].max()))\n",
    "\n"
   ]
  },
  {
   "cell_type": "code",
   "execution_count": null,
   "metadata": {},
   "outputs": [],
   "source": [
    "# Plot traffic sign for each label (62 in total)\n",
    "\n",
    "import matplotlib.pyplot as plt\n",
    "\n",
    "# get unique-labels\n",
    "uni_labels = set(labels)\n",
    "\n",
    "# Initialize label\n",
    "\n",
    "plt.figure(figsize=(15,15))\n",
    "\n",
    "i = 1\n",
    "#( possible without counter with enumarte for loop)\n",
    "\n",
    "# plot for each label a traffic sign in subplot\n",
    "\n",
    "for label in uni_labels:\n",
    "    \n",
    "    # pic an image\n",
    "    image = images[labels.index(label)]\n",
    "    # set up subplot\n",
    "    plt.subplot(8,8, i)\n",
    "    # style for plot\n",
    "    plt.axis('off')\n",
    "    plt.title(\"Label {0} ({}).format(label, labels.count(label))\")\n",
    "    # counter + 1\n",
    "    i += 1\n",
    "    plt.imshow(image)\n",
    "\n",
    "plt.show()\n",
    "\n",
    "# as seen in hist plot before labels 22, 32, 38, and 61 significantly more instances than other signs\n",
    "\n",
    "# 22, 32, prohibitory , 38 designatory and 61 is priority sign\n"
   ]
  },
  {
   "cell_type": "markdown",
   "metadata": {},
   "source": [
    "### 1.3 Feature Extraction\n",
    "\n",
    "steps\n",
    "1) rescaling of images\n",
    "2) convert images to greyscale (in classification not so important the colors, detection very important)"
   ]
  },
  {
   "cell_type": "code",
   "execution_count": null,
   "metadata": {},
   "outputs": [],
   "source": [
    "## Rescaling the images\n",
    "\n",
    "from skimage import transform\n",
    "\n",
    "images28 = [ transform.resize(image, (28, 28)) for image in images]\n",
    "\n",
    "\n",
    "from skimage.color import rgb2gray\n",
    "\n",
    "# convert image28 to array\n",
    "images28 = np.array(images28)\n",
    "\n",
    "images28 = rgb2gray(images28)\n",
    "\n",
    "# double check results\n",
    "\n",
    "import matplotlib.pyplot as plt\n",
    "\n",
    "traffics_signs = [330, 2250,3650, 4000]\n",
    "\n",
    "for i in range(len(traffic_signs)):\n",
    "    plt.subplot(1,4, i)\n",
    "    \n",
    "    \n",
    "    plt.imshow(images28[traffic_signs[i]], cmap=\"gray\") # try without cmap ?\n",
    "    plt.axis('off')\n",
    "    plt.subplots_adjust(wspace=0.5)\n",
    "    \n",
    "    print('shape: {0}, min: {1}, max: {2}'.format(images28[traffic_signs[i]].shape,\n",
    "                                                 images28[traffic_sign[i]].min(),\n",
    "                                                 images28[traffic_sign[i]].max()))\n",
    "plt.show()\n",
    "\n",
    "# basic operations (rescale and rgb2gray)\n",
    "# others include blurring, shifting, brightness, rotation and u could make a Pipeline to transform ur images\n",
    "\n"
   ]
  }
 ],
 "metadata": {
  "kernelspec": {
   "display_name": "Python 3",
   "language": "python",
   "name": "python3"
  },
  "language_info": {
   "codemirror_mode": {
    "name": "ipython",
    "version": 3
   },
   "file_extension": ".py",
   "mimetype": "text/x-python",
   "name": "python",
   "nbconvert_exporter": "python",
   "pygments_lexer": "ipython3",
   "version": "3.7.6"
  }
 },
 "nbformat": 4,
 "nbformat_minor": 4
}
