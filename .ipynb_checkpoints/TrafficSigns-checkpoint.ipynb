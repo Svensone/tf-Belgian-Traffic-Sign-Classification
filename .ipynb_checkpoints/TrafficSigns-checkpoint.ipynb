{
 "cells": [
  {
   "cell_type": "markdown",
   "metadata": {},
   "source": [
    "\n",
    "# 1) Basic TensorFlow Knowledge"
   ]
  },
  {
   "cell_type": "code",
   "execution_count": null,
   "metadata": {},
   "outputs": [],
   "source": [
    "# getting started with tensorflow\n",
    "\n",
    "import tensorflow as tf\n",
    "\n",
    "x1 = tf.constant([1,2,3,4])\n",
    "x2 = tf.constant([5,6,7,8])\n",
    "\n",
    "# Multiply\n",
    "result = tf.Multiply(x1, x2)\n",
    "\n",
    "print(result)\n"
   ]
  },
  {
   "cell_type": "markdown",
   "metadata": {},
   "source": [
    "- types of data 1) placeholder 2) constants 3) variables\n",
    "- lazy evaluation in TensorFlow\n"
   ]
  },
  {
   "cell_type": "code",
   "execution_count": null,
   "metadata": {},
   "outputs": [],
   "source": [
    "\n",
    "import tensorflow as tf\n",
    "\n",
    "x1 = tf.constant([1,2,3,4])\n",
    "x2 = tf.constant([5,6,7,8])\n",
    "\n",
    "# Multiply\n",
    "result = tf.Multiply(x1, x2)\n",
    "\n",
    "# Initialize Session\n",
    "\n",
    "sess = tf.Session()\n",
    "\n",
    "print(sess.run(result))\n",
    "\n",
    "sess.close()\n",
    "\n",
    "# or \n",
    "'''with tf.Session() as sess:\n",
    "    output = sess.run(result)\n",
    "    print(output)'''\n",
    "\n",
    "# additional Config\n",
    "\n",
    "config = tf.ConfigProto(log_device_placement=True)\n",
    "config = tf.ConfigProto(allow_soft_placement = True)"
   ]
  },
  {
   "cell_type": "markdown",
   "metadata": {},
   "source": [
    "# Project Belgian Traffic Signs\n",
    "\n",
    "## 1 Loading and Exploration of Data"
   ]
  },
  {
   "cell_type": "code",
   "execution_count": null,
   "metadata": {},
   "outputs": [],
   "source": []
  },
  {
   "cell_type": "markdown",
   "metadata": {},
   "source": [
    "Belgian Traffic Signs\n",
    "\n",
    "- 6 types (warning, priority, prohibitory, mandatory, parking, designatory signs)\n",
    "- 30.000 speed signs removed in 2017"
   ]
  },
  {
   "cell_type": "code",
   "execution_count": null,
   "metadata": {},
   "outputs": [],
   "source": []
  },
  {
   "cell_type": "code",
   "execution_count": 2,
   "metadata": {},
   "outputs": [],
   "source": [
    "# Set up\n",
    "\n",
    "# basics\n",
    "import numpy as np\n",
    "import os\n"
   ]
  },
  {
   "cell_type": "code",
   "execution_count": 9,
   "metadata": {},
   "outputs": [
    {
     "ename": "NameError",
     "evalue": "name 'data' is not defined",
     "output_type": "error",
     "traceback": [
      "\u001b[1;31m---------------------------------------------------------------------------\u001b[0m",
      "\u001b[1;31mNameError\u001b[0m                                 Traceback (most recent call last)",
      "\u001b[1;32m<ipython-input-9-b6326146e77f>\u001b[0m in \u001b[0;36m<module>\u001b[1;34m\u001b[0m\n\u001b[0;32m     24\u001b[0m \u001b[0mtest_data_dir\u001b[0m \u001b[1;33m=\u001b[0m \u001b[0mos\u001b[0m\u001b[1;33m.\u001b[0m\u001b[0mpath\u001b[0m\u001b[1;33m.\u001b[0m\u001b[0mjoin\u001b[0m\u001b[1;33m(\u001b[0m\u001b[0mROOT_PATH\u001b[0m\u001b[1;33m,\u001b[0m \u001b[1;34m'TrafficSigns/Testing'\u001b[0m\u001b[1;33m)\u001b[0m\u001b[1;33m\u001b[0m\u001b[1;33m\u001b[0m\u001b[0m\n\u001b[0;32m     25\u001b[0m \u001b[1;33m\u001b[0m\u001b[0m\n\u001b[1;32m---> 26\u001b[1;33m \u001b[0mimages\u001b[0m\u001b[1;33m,\u001b[0m \u001b[0mlabels\u001b[0m \u001b[1;33m=\u001b[0m \u001b[0mload_data\u001b[0m\u001b[1;33m(\u001b[0m\u001b[0mtrain_data_dir\u001b[0m\u001b[1;33m)\u001b[0m\u001b[1;33m\u001b[0m\u001b[1;33m\u001b[0m\u001b[0m\n\u001b[0m",
      "\u001b[1;32m<ipython-input-9-b6326146e77f>\u001b[0m in \u001b[0;36mload_data\u001b[1;34m(data_dir)\u001b[0m\n\u001b[0;32m     15\u001b[0m                       if f.endswith(\".ppm\")]\n\u001b[0;32m     16\u001b[0m         \u001b[1;32mfor\u001b[0m \u001b[0mf\u001b[0m \u001b[1;32min\u001b[0m \u001b[0mfile_names\u001b[0m\u001b[1;33m:\u001b[0m\u001b[1;33m\u001b[0m\u001b[1;33m\u001b[0m\u001b[0m\n\u001b[1;32m---> 17\u001b[1;33m             \u001b[0mimages\u001b[0m\u001b[1;33m.\u001b[0m\u001b[0mappend\u001b[0m\u001b[1;33m(\u001b[0m\u001b[0mdata\u001b[0m\u001b[1;33m.\u001b[0m\u001b[0mimread\u001b[0m\u001b[1;33m(\u001b[0m\u001b[0mf\u001b[0m\u001b[1;33m)\u001b[0m\u001b[1;33m)\u001b[0m\u001b[1;33m\u001b[0m\u001b[1;33m\u001b[0m\u001b[0m\n\u001b[0m\u001b[0;32m     18\u001b[0m             \u001b[0mlabels\u001b[0m\u001b[1;33m.\u001b[0m\u001b[0mappend\u001b[0m\u001b[1;33m(\u001b[0m\u001b[0mint\u001b[0m\u001b[1;33m(\u001b[0m\u001b[0md\u001b[0m\u001b[1;33m)\u001b[0m\u001b[1;33m)\u001b[0m\u001b[1;33m\u001b[0m\u001b[1;33m\u001b[0m\u001b[0m\n\u001b[0;32m     19\u001b[0m     \u001b[1;32mreturn\u001b[0m \u001b[0mimages\u001b[0m\u001b[1;33m,\u001b[0m \u001b[0mlabels\u001b[0m\u001b[1;33m\u001b[0m\u001b[1;33m\u001b[0m\u001b[0m\n",
      "\u001b[1;31mNameError\u001b[0m: name 'data' is not defined"
     ]
    }
   ],
   "source": [
    "# 1) Loading and Exploration of Data\n",
    "\n",
    "def load_data(data_dir):\n",
    "    # Get all subdirectories of data_dir. Each represents a label.\n",
    "    directories = [d for d in os.listdir(data_dir) \n",
    "                   if os.path.isdir(os.path.join(data_dir, d))]\n",
    "    # Loop through the label directories and collect the data in\n",
    "    # two lists, labels and images.\n",
    "    labels = []\n",
    "    images = []\n",
    "    for d in directories:\n",
    "        label_dir = os.path.join(data_dir, d)\n",
    "        file_names = [os.path.join(label_dir, f) \n",
    "                      for f in os.listdir(label_dir) \n",
    "                      if f.endswith(\".ppm\")]\n",
    "        for f in file_names:\n",
    "            images.append(data.imread(f))\n",
    "            labels.append(int(d))\n",
    "    return images, labels\n",
    "    \n",
    "ROOT_PATH = '/Users/ansve/Coding/Tensorflow/Deep Learning - Belgian Traffic Signs/'\n",
    "\n",
    "train_data_dir = os.path.join(ROOT_PATH, 'TrafficSigns/Training')\n",
    "test_data_dir = os.path.join(ROOT_PATH, 'TrafficSigns/Testing')\n",
    "\n",
    "images, labels = load_data(train_data_dir)"
   ]
  },
  {
   "cell_type": "markdown",
   "metadata": {},
   "source": [
    "### 1.1 Traffic Sign Statistics"
   ]
  },
  {
   "cell_type": "code",
   "execution_count": null,
   "metadata": {},
   "outputs": [],
   "source": [
    "#Inspect the images and labels\n",
    "\n",
    "\n",
    "## might convert list into arrays\n",
    "np.array(images)\n",
    "\n",
    "# recap: \n",
    "# 1) list and array almost the same - storing data. but arrays can be multiplied etc\n",
    "# set Object: unordered, unindexed list, immutable but can .add()\n",
    "\n",
    "# 1) Images\n",
    "print(images.ndim)  #print dimensions of image\n",
    "print(images.size)\n",
    "\n",
    "images[0]\n",
    "\n",
    "# 2) Labels\n",
    "print(labels.ndim)\n",
    "print(labels.size)\n",
    "\n",
    "print(len(set(labels)))"
   ]
  },
  {
   "cell_type": "code",
   "execution_count": null,
   "metadata": {},
   "outputs": [],
   "source": [
    "import matplotlib.pyplot as plt\n",
    "\n",
    "plt.hist(labels, 62 )\n",
    "\n",
    "plt.show()"
   ]
  },
  {
   "cell_type": "markdown",
   "metadata": {},
   "source": [
    "### 1.2 Visualizing The Traffic Signs"
   ]
  },
  {
   "cell_type": "code",
   "execution_count": null,
   "metadata": {},
   "outputs": [],
   "source": [
    "import matplotlib.pyplot as plt\n",
    "\n",
    "#chose 4 images\n",
    "traffic_signs = [300, 2250, 3650,4000]\n",
    "\n",
    "# fill out 4 subplots with 4 traffic Signs\n",
    "\n",
    "for i in range(len(traffic_signs)):\n",
    "    plt.subplot(1,4, 1+i)\n",
    "    plt.axis(off)\n",
    "    plt.imshow(images[traffic_signs[i]])\n",
    "    plt.subplots_adjust(wspace=0.5)\n",
    "    \n",
    "plt.show()"
   ]
  },
  {
   "cell_type": "code",
   "execution_count": null,
   "metadata": {},
   "outputs": [],
   "source": [
    "# Import `matplotlib`\n",
    "import matplotlib.pyplot as plt\n",
    "\n",
    "# Determine the (random) indexes of the images\n",
    "traffic_signs = [300, 2250, 3650, 4000]\n",
    "\n",
    "# Fill out the subplots with the random images and add shape, min and max values\n",
    "for i in range(len(traffic_signs)):\n",
    "    plt.subplots(1, 4, i+1)\n",
    "    plt.axis(off)\n",
    "    plt.imshow(images[traffic_signs[i]])\n",
    "    plt.subplots_adjust(wspace=0.5)\n",
    "    plt.show()\n",
    "    print('shape: {0}, min: {1}, max: {2}'.format(images[traffic_signs[i]].shape,\n",
    "                                                 images[traffic_sign[i]].min(),\n",
    "                                                 images[traffic_sign[i]].max()))\n",
    "\n"
   ]
  },
  {
   "cell_type": "code",
   "execution_count": null,
   "metadata": {},
   "outputs": [],
   "source": [
    "# Plot traffic sign for each label (62 in total)\n",
    "\n",
    "import matplotlib.pyplot as plt\n",
    "\n",
    "# get unique-labels\n",
    "uni_labels = set(labels)\n",
    "\n",
    "# Initialize label\n",
    "\n",
    "plt.figure(figsize=(15,15))\n",
    "\n",
    "i = 1\n",
    "#( possible without counter with enumarte for loop)\n",
    "\n",
    "# plot for each label a traffic sign in subplot\n",
    "\n",
    "for label in uni_labels:\n",
    "    \n",
    "    # pic an image\n",
    "    image = images[labels.index(label)]\n",
    "    # set up subplot\n",
    "    plt.subplot(8,8, i)\n",
    "    # style for plot\n",
    "    plt.axis('off')\n",
    "    plt.title(\"Label {0} ({}).format(label, labels.count(label))\")\n",
    "    # counter + 1\n",
    "    i += 1\n",
    "    plt.imshow(image)\n",
    "\n",
    "plt.show()\n",
    "\n",
    "# as seen in hist plot before labels 22, 32, 38, and 61 significantly more instances than other signs\n",
    "\n",
    "# 22, 32, prohibitory , 38 designatory and 61 is priority sign\n"
   ]
  },
  {
   "cell_type": "markdown",
   "metadata": {},
   "source": [
    "### 1.3 Feature Extraction\n",
    "\n",
    "steps\n",
    "1) rescaling of images\n",
    "2) convert images to greyscale (in classification not so important the colors, detection very important)"
   ]
  },
  {
   "cell_type": "code",
   "execution_count": 4,
   "metadata": {},
   "outputs": [
    {
     "ename": "NameError",
     "evalue": "name 'images' is not defined",
     "output_type": "error",
     "traceback": [
      "\u001b[1;31m---------------------------------------------------------------------------\u001b[0m",
      "\u001b[1;31mNameError\u001b[0m                                 Traceback (most recent call last)",
      "\u001b[1;32m<ipython-input-4-7cf85cee3dcb>\u001b[0m in \u001b[0;36m<module>\u001b[1;34m\u001b[0m\n\u001b[0;32m      3\u001b[0m \u001b[1;32mfrom\u001b[0m \u001b[0mskimage\u001b[0m \u001b[1;32mimport\u001b[0m \u001b[0mtransform\u001b[0m\u001b[1;33m\u001b[0m\u001b[1;33m\u001b[0m\u001b[0m\n\u001b[0;32m      4\u001b[0m \u001b[1;33m\u001b[0m\u001b[0m\n\u001b[1;32m----> 5\u001b[1;33m \u001b[0mimages28\u001b[0m \u001b[1;33m=\u001b[0m \u001b[1;33m[\u001b[0m \u001b[0mtransform\u001b[0m\u001b[1;33m.\u001b[0m\u001b[0mresize\u001b[0m\u001b[1;33m(\u001b[0m\u001b[0mimage\u001b[0m\u001b[1;33m,\u001b[0m \u001b[1;33m(\u001b[0m\u001b[1;36m28\u001b[0m\u001b[1;33m,\u001b[0m \u001b[1;36m28\u001b[0m\u001b[1;33m)\u001b[0m\u001b[1;33m)\u001b[0m \u001b[1;32mfor\u001b[0m \u001b[0mimage\u001b[0m \u001b[1;32min\u001b[0m \u001b[0mimages\u001b[0m\u001b[1;33m]\u001b[0m\u001b[1;33m\u001b[0m\u001b[1;33m\u001b[0m\u001b[0m\n\u001b[0m\u001b[0;32m      6\u001b[0m \u001b[1;33m\u001b[0m\u001b[0m\n\u001b[0;32m      7\u001b[0m \u001b[1;33m\u001b[0m\u001b[0m\n",
      "\u001b[1;31mNameError\u001b[0m: name 'images' is not defined"
     ]
    }
   ],
   "source": [
    "## Rescaling the images\n",
    "\n",
    "from skimage import transform\n",
    "\n",
    "images28 = [ transform.resize(image, (28, 28)) for image in images]\n",
    "\n",
    "\n",
    "from skimage.color import rgb2gray\n",
    "\n",
    "# convert image28 to array\n",
    "images28 = np.array(images28)\n",
    "\n",
    "images28 = rgb2gray(images28)\n",
    "\n",
    "# double check results\n",
    "\n",
    "import matplotlib.pyplot as plt\n",
    "\n",
    "traffics_signs = [330, 2250,3650, 4000]\n",
    "\n",
    "for i in range(len(traffic_signs)):\n",
    "    plt.subplot(1,4, i)\n",
    "    plt.imshow(images28[traffic_signs[i]], cmap=\"gray\") # try without cmap ?\n",
    "    plt.axis('off')\n",
    "    plt.subplots_adjust(wspace=0.5)\n",
    "    \n",
    "    print('shape: {0}, min: {1}, max: {2}'.format(images28[traffic_signs[i]].shape,\n",
    "                                                 images28[traffic_sign[i]].min(),\n",
    "                                                 images28[traffic_sign[i]].max()))\n",
    "plt.show()\n",
    "\n",
    "# basic operations (rescale and rgb2gray)\n",
    "# others include blurring, shifting, brightness, rotation and u could make a Pipeline to transform ur images\n",
    "\n"
   ]
  },
  {
   "cell_type": "markdown",
   "metadata": {},
   "source": [
    "# Deep Learning with TensorFlow\n",
    "\n",
    "## Modeling the Neural Network\n"
   ]
  },
  {
   "cell_type": "code",
   "execution_count": null,
   "metadata": {},
   "outputs": [],
   "source": [
    "import tensorflow as tf\n",
    "\n",
    "# Initialize placeholders\n",
    "x = tf.placeholder(dtype= tf.float32, shape=[None, 28, 28])\n",
    "y = tf.placeholder(dtype= tf.int32, shape= [None])\n",
    "\n",
    "# Flatten the input data\n",
    "images_flat = tf.contrib.layers.flatten(x)\n",
    "\n",
    "# Fully connected layer\n",
    "logits = tf.contrib.layers.fully_connected(images_flat, 62, tf.nn.relu)\n",
    "\n",
    "# Define loss function\n",
    "loss = tf.reduce_mean(tf.nn.sparse_softmax_cross_entropy_with_logits(label = y, logits = logits))\n",
    "\n",
    "#Define a optimzer\n",
    "train_op = tf.train.AdamOptimizer(learning_rate=0.001).minimize(loss)\n",
    "\n",
    "# Convert logits to label indexes\n",
    "correct_pred = tf.argmax(logits, 1)\n",
    "\n",
    "#Define an accuracz metric\n",
    "accuracz = tf.reduce_mean(tf.cast(correct_pred, tf.float32))\n",
    "\n",
    "\n",
    "\n"
   ]
  }
 ],
 "metadata": {
  "kernelspec": {
   "display_name": "Python 3",
   "language": "python",
   "name": "python3"
  },
  "language_info": {
   "codemirror_mode": {
    "name": "ipython",
    "version": 3
   },
   "file_extension": ".py",
   "mimetype": "text/x-python",
   "name": "python",
   "nbconvert_exporter": "python",
   "pygments_lexer": "ipython3",
   "version": "3.7.6"
  }
 },
 "nbformat": 4,
 "nbformat_minor": 4
}
