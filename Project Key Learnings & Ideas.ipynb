{
 "cells": [
  {
   "cell_type": "markdown",
   "metadata": {},
   "source": [
    "# tensorflow basics\n",
    "- tf.Session()\n",
    "- sess.run(function/ nn you create)\n",
    "- sess.close\n",
    "\n",
    "- use .placeholder()\n",
    "- tf hast constants, variables etc.\n",
    "\n",
    "\n",
    "# Belgian Traffic Signs\n",
    "\n",
    "## 1) Data Cleaning/ Preparation\n",
    "\n",
    "- skimage.transform\n",
    "- .rgb2gray()\n",
    "- .resize()\n",
    "\n",
    "- other methods like blurring\n",
    "\n",
    "## 2) create nn with\n",
    "\n",
    "- tf.contrib.flatten()\n",
    "- tf.contrib.fully_connected\n",
    "\n",
    "- tf.reduce_mean() as loss function\n",
    "- tf.train.Adamoptimizer().minimize(loss function)\n",
    "\n",
    "- predicted = tf.argmax()\n",
    "- accuracy = \n",
    "\n",
    "## 3) test\n",
    "\n",
    "- transform test data like train data\n",
    "- sess.run([correct_pred, feed={x: test_images}])()\n",
    "\n",
    "- accuracy"
   ]
  },
  {
   "cell_type": "code",
   "execution_count": null,
   "metadata": {},
   "outputs": [],
   "source": []
  }
 ],
 "metadata": {
  "kernelspec": {
   "display_name": "Python 3",
   "language": "python",
   "name": "python3"
  },
  "language_info": {
   "codemirror_mode": {
    "name": "ipython",
    "version": 3
   },
   "file_extension": ".py",
   "mimetype": "text/x-python",
   "name": "python",
   "nbconvert_exporter": "python",
   "pygments_lexer": "ipython3",
   "version": "3.7.6"
  }
 },
 "nbformat": 4,
 "nbformat_minor": 4
}
